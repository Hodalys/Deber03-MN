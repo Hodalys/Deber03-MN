{
 "cells": [
  {
   "cell_type": "markdown",
   "metadata": {},
   "source": [
    "# Deber03 de Métodos Numéricos\n",
    "## Algoritmos y Convergencia\n",
    "Nombre: Hodalys López"
   ]
  },
  {
   "cell_type": "markdown",
   "metadata": {},
   "source": [
    "\tLas ecuaciones (1.2) y (1.3) en la selección 1.2 proporcionan formas alternativas para las raíces x_1  y x_2 de ax^2+bx+c=0. Construya un algoritmo con entrada a, b, c y salida x_1,x_2 que calcule las raíces de x_1  y x_2 (que pueden ser iguales con conjugados completos) mediante la mejor fórmula para cada raíz."
   ]
  },
  {
   "cell_type": "code",
   "execution_count": null,
   "metadata": {},
   "outputs": [],
   "source": [
    "import math, cmath\n",
    "def root(a,b,c):\n",
    "    d = b**2 - 4*a*c\n",
    "    if d>0:\n",
    "        x1 = (-b+ math.sqrt(d))/(2*a)\n",
    "        x2 = (-b- math.sqrt(d))/(2*a)\n",
    "    elif d == 0:\n",
    "        x1 = -b/(2*a)\n",
    "        x2 = -b/(2*a)\n",
    "    else:\n",
    "        x1 = (-b/(2*a)) + (cmath.sqrt(-d)/(2*a))  \n",
    "        x2 = (-b/(2*a)) - (cmath.sqrt(-d)/(2*a))\n",
    "    return x1, x2\n",
    "a = 6\n",
    "b = 2\n",
    "c = -2\n",
    "print(root(a,b,c))"
   ]
  }
 ],
 "metadata": {
  "language_info": {
   "name": "python"
  }
 },
 "nbformat": 4,
 "nbformat_minor": 2
}
